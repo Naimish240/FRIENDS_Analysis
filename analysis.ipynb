{
 "cells": [
  {
   "cell_type": "code",
   "execution_count": null,
   "id": "37c5fa9d",
   "metadata": {},
   "outputs": [],
   "source": [
    "import pandas as pd\n",
    "import numpy as np\n",
    "import matplotlib.pyplot as plt\n",
    "from textblob import TextBlob"
   ]
  },
  {
   "cell_type": "code",
   "execution_count": null,
   "id": "6173012b",
   "metadata": {},
   "outputs": [],
   "source": [
    "scripts = pd.read_csv('data/processed_scripts.csv')\n",
    "meta = pd.read_csv('data/metadata.csv')"
   ]
  },
  {
   "cell_type": "code",
   "execution_count": null,
   "id": "8365637d",
   "metadata": {},
   "outputs": [],
   "source": [
    "def getSubjectivity(text):\n",
    "   return TextBlob(text).sentiment.subjectivity\n",
    "  \n",
    "def getPolarity(text):\n",
    "   return TextBlob(text).sentiment.polarity\n",
    "  \n",
    "#Create two new columns Subjectivity & Polarity\n",
    "scripts = scripts[pd.notnull(scripts['Dialog'])] # Get rid of nulls\n",
    "scripts['subjectivity'] = scripts['Dialog'].apply(getSubjectivity)\n",
    "scripts['polarity'] = scripts['Dialog'].apply(getPolarity)\n",
    "scripts.sort_values('S-E', inplace=True, ignore_index=True)\n",
    "\n",
    "scripts"
   ]
  },
  {
   "cell_type": "code",
   "execution_count": null,
   "id": "74ba9cc1",
   "metadata": {},
   "outputs": [],
   "source": [
    "scripts.describe()"
   ]
  },
  {
   "cell_type": "markdown",
   "id": "51080a09",
   "metadata": {},
   "source": [
    "From this, we can see that on average, the show tends to be neutral (neither positive nor negative) on the whole."
   ]
  },
  {
   "cell_type": "code",
   "execution_count": null,
   "id": "27c14eb2",
   "metadata": {},
   "outputs": [],
   "source": [
    "data = {}\n",
    "for episode in scripts['S-E'].unique():\n",
    "    subjectivity = scripts[scripts['S-E'] == episode].subjectivity.mean()\n",
    "    polarity = scripts[scripts['S-E'] == episode].polarity.mean()\n",
    "    data[episode] = [subjectivity, polarity]\n",
    "\n",
    "data = {k: v for k, v in sorted(data.items(), key=lambda item: item[0])}"
   ]
  },
  {
   "cell_type": "code",
   "execution_count": null,
   "id": "56c1be12",
   "metadata": {},
   "outputs": [],
   "source": [
    "ep = list(data.keys())\n",
    "sub = [i[0] for i in data.values()]\n",
    "pol = [i[1] for i in data.values()] "
   ]
  },
  {
   "cell_type": "code",
   "execution_count": null,
   "id": "25a62532",
   "metadata": {},
   "outputs": [],
   "source": [
    "print(\"Maximum Subjectivity: \", max(sub))\n",
    "print(\"Minimum Subjectivity: \", min(sub))\n",
    "\n",
    "plt.figure(figsize=(42, 6))\n",
    "plt.plot(ep, sub)\n",
    "plt.xticks(rotation=90)\n",
    "plt.xlabel(\"Episode\")\n",
    "plt.ylabel(\"Subjectivity\")\n",
    "plt.title(\"Subjectivity vs. Episode\")\n",
    "plt.show()"
   ]
  },
  {
   "cell_type": "code",
   "execution_count": null,
   "id": "04d43d22",
   "metadata": {},
   "outputs": [],
   "source": [
    "print(\"Maximum Polarity: \", max(pol))\n",
    "print(\"Minimum Polarity: \", min(pol))\n",
    "\n",
    "plt.figure(figsize=(42, 6))\n",
    "plt.plot(ep, pol)\n",
    "plt.xticks(rotation=90)\n",
    "plt.xlabel(\"Episode\")\n",
    "plt.ylabel(\"Polarity\")\n",
    "plt.title(\"Polarity vs. Episode\")\n",
    "plt.show()"
   ]
  },
  {
   "cell_type": "code",
   "execution_count": null,
   "id": "88bab942",
   "metadata": {
    "scrolled": true
   },
   "outputs": [],
   "source": [
    "# Weighted polarity and subjectivity\n",
    "\n",
    "def words_per_line(text):\n",
    "    return len(text.split())\n",
    "\n",
    "scripts['word_count'] = scripts.Dialog.apply(words_per_line)\n",
    "scripts['weighted_sub'] = scripts['subjectivity'].to_numpy() * scripts['word_count'].to_numpy()\n",
    "scripts['weighted_pol'] = scripts['polarity'].to_numpy() * scripts['word_count'].to_numpy()\n",
    "\n",
    "scripts"
   ]
  },
  {
   "cell_type": "code",
   "execution_count": null,
   "id": "be6c4ef9",
   "metadata": {},
   "outputs": [],
   "source": [
    "data = {}\n",
    "for episode in scripts['S-E'].unique():\n",
    "    subjectivity = scripts[scripts['S-E'] == episode]['weighted_sub'].sum() / scripts[scripts['S-E'] == episode]['word_count'].sum()\n",
    "    polarity = scripts[scripts['S-E'] == episode]['weighted_pol'].sum() / scripts[scripts['S-E'] == episode]['word_count'].sum()\n",
    "    data[episode] = [subjectivity, polarity]\n",
    "\n",
    "data = {k: v for k, v in sorted(data.items(), key=lambda item: item[0])}"
   ]
  },
  {
   "cell_type": "code",
   "execution_count": null,
   "id": "75a829d6",
   "metadata": {},
   "outputs": [],
   "source": [
    "ep = list(data.keys())\n",
    "sub = [i[0] for i in data.values()]\n",
    "pol = [i[1] for i in data.values()] "
   ]
  },
  {
   "cell_type": "code",
   "execution_count": null,
   "id": "f7f2160d",
   "metadata": {},
   "outputs": [],
   "source": [
    "print(\"Maximum Weighted Subjectivity: \", max(sub))\n",
    "print(\"Minimum Weighted Subjectivity: \", min(sub))\n",
    "\n",
    "plt.figure(figsize=(42, 6))\n",
    "plt.plot(ep, sub)\n",
    "plt.xticks(rotation=90)\n",
    "plt.xlabel(\"Episode\")\n",
    "plt.ylabel(\"Subjectivity\")\n",
    "plt.title(\"Subjectivity vs. Episode\")\n",
    "plt.show()"
   ]
  },
  {
   "cell_type": "code",
   "execution_count": null,
   "id": "c7319927",
   "metadata": {
    "scrolled": true
   },
   "outputs": [],
   "source": [
    "print(\"Maximum Weighted Polarity: \", max(pol))\n",
    "print(\"Minimum Weighted Polarity: \", min(pol))\n",
    "\n",
    "plt.figure(figsize=(42, 6))\n",
    "plt.plot(ep, pol)\n",
    "plt.xticks(rotation=90)\n",
    "plt.xlabel(\"Episode\")\n",
    "plt.ylabel(\"Polarity\")\n",
    "plt.title(\"Polarity vs. Episode\")\n",
    "plt.show()"
   ]
  },
  {
   "cell_type": "code",
   "execution_count": null,
   "id": "b735a4af",
   "metadata": {},
   "outputs": [],
   "source": [
    "meta['mean_pol'] = pol\n",
    "meta['mean_sub'] = sub\n",
    "meta['std_pol'] = stdpol\n",
    "meta['std_sub'] = stdsub"
   ]
  }
 ],
 "metadata": {
  "kernelspec": {
   "display_name": "Python [conda env:friends] *",
   "language": "python",
   "name": "conda-env-friends-py"
  },
  "language_info": {
   "codemirror_mode": {
    "name": "ipython",
    "version": 3
   },
   "file_extension": ".py",
   "mimetype": "text/x-python",
   "name": "python",
   "nbconvert_exporter": "python",
   "pygments_lexer": "ipython3",
   "version": "3.10.5"
  }
 },
 "nbformat": 4,
 "nbformat_minor": 5
}
