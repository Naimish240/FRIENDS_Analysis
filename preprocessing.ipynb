{
 "cells": [
  {
   "cell_type": "code",
   "execution_count": null,
   "metadata": {},
   "outputs": [
    {
     "ename": "",
     "evalue": "",
     "output_type": "error",
     "traceback": [
      "\u001b[1;31mFailed to start the Kernel. \n",
      "\u001b[1;31mKernel env (Python 3.9.13) is not usable. Check the Jupyter output tab for more information. \n",
      "View Jupyter <a href='command:jupyter.viewOutput'>log</a> for further details."
     ]
    }
   ],
   "source": [
    "import re\n",
    "import glob\n",
    "import pandas as pd"
   ]
  },
  {
   "cell_type": "code",
   "execution_count": null,
   "metadata": {},
   "outputs": [],
   "source": [
    "def process_scripts(path):\n",
    "    df = []\n",
    "\n",
    "    def read_script(pth):\n",
    "        S_E = pth.split()[0][13:]\n",
    "        season = int(S_E[1:3])\n",
    "        episode = int(S_E[4:6])\n",
    "        title = pth.split(\" \", maxsplit=1)[1][:-4]\n",
    "\n",
    "        foo = []\n",
    "\n",
    "        with open(pth, 'r') as fh:\n",
    "            lines = fh.readlines()\n",
    "\n",
    "        for line in lines:\n",
    "            temp = re.sub(\"[\\(\\[].*?[\\)\\]]\", \"\", line)\n",
    "            # Ignore lines that start with '[', because they set up locaiton\n",
    "            if not temp:\n",
    "                continue\n",
    "\n",
    "            if temp[0] == '[' or temp[0] == '(' or temp[0] == '\\n' or temp[0] == '{':\n",
    "                continue\n",
    "            # Ignore lines without a ':', because no speaker\n",
    "            if ':' not in temp:\n",
    "                continue\n",
    "            speaker, dialog = temp.split(':', maxsplit=1)\n",
    "            dialog = dialog.strip('\\n')\n",
    "            foo.append([season, episode, title, speaker, dialog])\n",
    "\n",
    "        return foo\n",
    "    \n",
    "    scripts = glob.glob(\"data/scripts/*.txt\")\n",
    "    \n",
    "    for script in scripts:\n",
    "        print(script)\n",
    "        data = read_script(script)\n",
    "        for foo in data:\n",
    "            df.append(foo)\n",
    "\n",
    "    print(len(df), len(df[0]))\n",
    "    df = pd.DataFrame(df, columns=[\"Season\", \"Episode\", \"Title\", \"Speaker\", \"Dialog\"])\n",
    "    print(df.head())\n",
    "    print(df.Speaker.unique())\n",
    "\n",
    "    return df"
   ]
  },
  {
   "cell_type": "code",
   "execution_count": null,
   "metadata": {},
   "outputs": [],
   "source": [
    "df = process_scripts(\"data/scripts\")"
   ]
  }
 ],
 "metadata": {
  "kernelspec": {
   "display_name": "Python 3.9.13 ('env': venv)",
   "language": "python",
   "name": "python3"
  },
  "language_info": {
   "name": "python",
   "version": "3.9.13"
  },
  "orig_nbformat": 4,
  "vscode": {
   "interpreter": {
    "hash": "52c98202278972ece877c63b5375d23a5c75499148652c6a33c7718842fe433e"
   }
  }
 },
 "nbformat": 4,
 "nbformat_minor": 2
}
